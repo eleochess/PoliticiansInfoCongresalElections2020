{
 "cells": [
  {
   "cell_type": "markdown",
   "metadata": {},
   "source": [
    "# Obteniendo los datos de todos los candidatos para las elecciones congresales del 2020"
   ]
  },
  {
   "cell_type": "code",
   "execution_count": 36,
   "metadata": {},
   "outputs": [],
   "source": [
    "import requests\n",
    "import csv\n",
    "import json"
   ]
  },
  {
   "cell_type": "code",
   "execution_count": 37,
   "metadata": {},
   "outputs": [],
   "source": [
    "candidatos = []\n",
    "with open('candidates_tmp2.csv') as csv_candidatos:\n",
    "    csv_read_candidatos = csv.reader(csv_candidatos, delimiter=';')\n",
    "    line_count = 0\n",
    "    for row in csv_read_candidatos:\n",
    "        if line_count == 0:\n",
    "            line_count = line_count + 1\n",
    "        else:\n",
    "            candidatos.append(row)"
   ]
  },
  {
   "cell_type": "code",
   "execution_count": 38,
   "metadata": {},
   "outputs": [
    {
     "name": "stdout",
     "output_type": "stream",
     "text": [
      "erhkTXBpzf8%253d - MONICA ELIZABETH\n",
      "gKh0qYsJv78%253d - LESLYE CAROL\n",
      "ckWJmJ4W01E%253d - WALTER JESUS\n",
      "6n1IQ2d3mhk%253d - GUILLERMO JUNIOR\n"
     ]
    }
   ],
   "source": [
    "for can in candidatos:\n",
    "    print(can[1] + \" - \" + can[2])"
   ]
  },
  {
   "cell_type": "code",
   "execution_count": 29,
   "metadata": {},
   "outputs": [
    {
     "name": "stdout",
     "output_type": "stream",
     "text": [
      "https://votoinformado.jne.gob.pe/voto/HojaVida/CargarHojaVida?id=erhkTXBpzf8%253d\n",
      "0\n",
      "https://votoinformado.jne.gob.pe/voto/HojaVida/CargarHojaVida?id=gKh0qYsJv78%253d\n",
      "0\n",
      "https://votoinformado.jne.gob.pe/voto/HojaVida/CargarHojaVida?id=ckWJmJ4W01E%253d\n",
      "0\n"
     ]
    }
   ],
   "source": [
    "with open('candidatosinfo.csv', 'w', encoding='utf-8', newline='') as csv_info:\n",
    "    csv_info.truncate()\n",
    "    first = 1\n",
    "    for can in candidatos:\n",
    "        url = \"https://votoinformado.jne.gob.pe/voto/HojaVida/CargarHojaVida?id=\" + can[1]\n",
    "        print(url)\n",
    "        response = requests.get(url)\n",
    "        json_res = response.json()\n",
    "        \n",
    "        par_tiene_edu_tec = 0\n",
    "        \n",
    "        for edu_tec in json_res[\"data\"][\"Data\"][\"EDUCACIONTECNICAS\"]:\n",
    "            if edu_tec[\"TXESTADO\"] != \"\" and edu_tec[\"TXESTADO\"] is not None:\n",
    "                par_tiene_edu_tec = 1\n",
    "                \n",
    "        print(par_tiene_edu_tec)"
   ]
  },
  {
   "cell_type": "code",
   "execution_count": 31,
   "metadata": {},
   "outputs": [
    {
     "name": "stdout",
     "output_type": "stream",
     "text": [
      "https://votoinformado.jne.gob.pe/voto/HojaVida/CargarHojaVida?id=erhkTXBpzf8%253d\n",
      "https://votoinformado.jne.gob.pe/voto/HojaVida/CargarHojaVida?id=gKh0qYsJv78%253d\n",
      "https://votoinformado.jne.gob.pe/voto/HojaVida/CargarHojaVida?id=ckWJmJ4W01E%253d\n"
     ]
    }
   ],
   "source": [
    "with open('candidatosinfo.csv', 'w', encoding='utf-8', newline='') as csv_info:\n",
    "    csv_info.truncate()\n",
    "    first = 1\n",
    "    for can in candidatos:\n",
    "        url = \"https://votoinformado.jne.gob.pe/voto/HojaVida/CargarHojaVida?id=\" + can[1]\n",
    "        print(url)\n",
    "        response = requests.get(url)\n",
    "        json_res = response.json()\n",
    "        \n",
    "        fw_info = csv.writer(csv_info, delimiter = ';', quotechar = '|', quoting = csv.QUOTE_MINIMAL)\n",
    "        \n",
    "        if first == 1:\n",
    "            fw_info.writerow(['ID_CANDIDATO', 'ID_ENCRIPTADO', 'NOMBRES', 'APE_PAT', 'APE_MAT', 'DNI', 'REGION', 'PARTIDO', 'POSICION', 'FOTO', 'CARGO_POSTULA', 'SEXO', 'FECHA_NAC', 'PAIS_NAC', 'DEPARTAMENTO_NAC', 'PROVINCIA_NAC', 'DISTRITO_NAC', 'ID_HOJAVIDA', 'INFO_BASICA', 'TIENE_PRIMARIA', 'CONCL_PRIMARIA', 'TIENE_SECUNDARIA', 'CONCL_SECUNDARIA', 'ESTUDIOS_TECNICOS'])\n",
    "            first = 0\n",
    "        if json_res[\"result\"] == 0:\n",
    "            continue\n",
    "        \n",
    "        par_tiene_edu_tec = 0\n",
    "        \n",
    "        for edu_tec in json_res[\"data\"][\"Data\"][\"EDUCACIONTECNICAS\"]:\n",
    "            if edu_tec[\"TXESTADO\"] != \"\" and edu_tec[\"TXESTADO\"] is not None:\n",
    "                par_tiene_edu_tec = 1\n",
    "        \n",
    "        fw_info.writerow([\n",
    "            can[0],\n",
    "            can[1],\n",
    "            can[2],\n",
    "            can[3],\n",
    "            can[4],\n",
    "            can[5],\n",
    "            can[6],\n",
    "            can[7],\n",
    "            can[8],\n",
    "            can[9],\n",
    "            json_res[\"data\"][\"Data\"][\"TXCARGOELECCION\"],\n",
    "            json_res[\"data\"][\"Data\"][\"TXSEXO\"],\n",
    "            json_res[\"data\"][\"Data\"][\"FENACIMIENTO\"],\n",
    "            json_res[\"data\"][\"Data\"][\"TXPAISNACIMIENTO\"],\n",
    "            json_res[\"data\"][\"Data\"][\"TXNACIDEPARTAMENTO\"],\n",
    "            json_res[\"data\"][\"Data\"][\"TXNACIPROVINCIA\"],\n",
    "            json_res[\"data\"][\"Data\"][\"TXNACIDISTRITO\"],\n",
    "            json_res[\"data\"][\"Data\"][\"IDHOJAVIDA\"],\n",
    "            \n",
    "            json_res[\"data\"][\"Data\"][\"EDUCACIONBASICAS\"][0][\"TXTIENEBASICA\"],\n",
    "            json_res[\"data\"][\"Data\"][\"EDUCACIONBASICAS\"][0][\"TXTIENEPRIMARIA\"],\n",
    "            json_res[\"data\"][\"Data\"][\"EDUCACIONBASICAS\"][0][\"TXCONCLUYOPRIMARIA\"],\n",
    "            json_res[\"data\"][\"Data\"][\"EDUCACIONBASICAS\"][0][\"TXTIENESECUNDARIA\"],\n",
    "            json_res[\"data\"][\"Data\"][\"EDUCACIONBASICAS\"][0][\"TXCONCLUYOSECUNDARIA\"],\n",
    "            \n",
    "            par_tiene_edu_tec\n",
    "        ])"
   ]
  },
  {
   "cell_type": "code",
   "execution_count": 42,
   "metadata": {},
   "outputs": [
    {
     "name": "stdout",
     "output_type": "stream",
     "text": [
      "https://votoinformado.jne.gob.pe/voto/HojaVida/CargarHojaVida?id=erhkTXBpzf8%253d\n",
      "https://votoinformado.jne.gob.pe/voto/HojaVida/CargarHojaVida?id=gKh0qYsJv78%253d\n",
      "https://votoinformado.jne.gob.pe/voto/HojaVida/CargarHojaVida?id=ckWJmJ4W01E%253d\n",
      "https://votoinformado.jne.gob.pe/voto/HojaVida/CargarHojaVida?id=6n1IQ2d3mhk%253d\n"
     ]
    }
   ],
   "source": [
    "with open('candidatos_info.csv', 'w', encoding='utf-8', newline='') as csv_info:\n",
    "    with open('candidatos_edutec.csv', 'w', encoding='utf-8', newline='') as csv_edutec:\n",
    "        csv_info.truncate()\n",
    "        csv_edutec.truncate()\n",
    "        \n",
    "        fw_info = csv.writer(csv_info, delimiter = ';', quotechar = '|', quoting = csv.QUOTE_MINIMAL)\n",
    "        fw_edutec = csv.writer(csv_edutec, delimiter = ';', quotechar = '|', quoting = csv.QUOTE_MINIMAL)\n",
    "        \n",
    "        fw_info.writerow(['ID_CANDIDATO', 'ID_ENCRIPTADO', 'NOMBRES', 'APE_PAT', 'APE_MAT', 'DNI', 'REGION', 'PARTIDO', 'POSICION', 'FOTO', 'CARGO_POSTULA', 'SEXO', 'FECHA_NAC', 'PAIS_NAC', 'DEPARTAMENTO_NAC', 'PROVINCIA_NAC', 'DISTRITO_NAC', 'ID_HOJAVIDA', 'INFO_BASICA', 'TIENE_PRIMARIA', 'CONCL_PRIMARIA', 'TIENE_SECUNDARIA', 'CONCL_SECUNDARIA', 'ESTUDIOS_TECNICOS'])\n",
    "        fw_edutec.writerow(['ID_CANDIDATO', 'CENTRO_ESTUDIOS', 'CARRERA', 'CONCLUIDO'])\n",
    "                \n",
    "        for can in candidatos:\n",
    "            url = \"https://votoinformado.jne.gob.pe/voto/HojaVida/CargarHojaVida?id=\" + can[1]\n",
    "            print(url)\n",
    "            response = requests.get(url)\n",
    "            json_res = response.json()\n",
    "                \n",
    "            if json_res[\"result\"] == 0:\n",
    "                continue\n",
    "\n",
    "            par_tiene_edu_tec = 0\n",
    "\n",
    "            for edu_tec in json_res[\"data\"][\"Data\"][\"EDUCACIONTECNICAS\"]:\n",
    "                if edu_tec[\"TXCENESTUDIOTECNICO\"] != \"\" and edu_tec[\"TXCENESTUDIOTECNICO\"] is not None:\n",
    "                    par_tiene_edu_tec = 1\n",
    "                    fw_edutec.writerow([\n",
    "                        can[0],\n",
    "                        edu_tec[\"TXCENESTUDIOTECNICO\"],\n",
    "                        edu_tec[\"TXCARRERATECNICO\"],\n",
    "                        edu_tec[\"TXCONCLUYO\"]\n",
    "                    ])\n",
    "\n",
    "            fw_info.writerow([\n",
    "                can[0],\n",
    "                can[1],\n",
    "                can[2],\n",
    "                can[3],\n",
    "                can[4],\n",
    "                can[5],\n",
    "                can[6],\n",
    "                can[7],\n",
    "                can[8],\n",
    "                can[9],\n",
    "                json_res[\"data\"][\"Data\"][\"TXCARGOELECCION\"],\n",
    "                json_res[\"data\"][\"Data\"][\"TXSEXO\"],\n",
    "                json_res[\"data\"][\"Data\"][\"FENACIMIENTO\"],\n",
    "                json_res[\"data\"][\"Data\"][\"TXPAISNACIMIENTO\"],\n",
    "                json_res[\"data\"][\"Data\"][\"TXNACIDEPARTAMENTO\"],\n",
    "                json_res[\"data\"][\"Data\"][\"TXNACIPROVINCIA\"],\n",
    "                json_res[\"data\"][\"Data\"][\"TXNACIDISTRITO\"],\n",
    "                json_res[\"data\"][\"Data\"][\"IDHOJAVIDA\"],\n",
    "\n",
    "                json_res[\"data\"][\"Data\"][\"EDUCACIONBASICAS\"][0][\"TXTIENEBASICA\"],\n",
    "                json_res[\"data\"][\"Data\"][\"EDUCACIONBASICAS\"][0][\"TXTIENEPRIMARIA\"],\n",
    "                json_res[\"data\"][\"Data\"][\"EDUCACIONBASICAS\"][0][\"TXCONCLUYOPRIMARIA\"],\n",
    "                json_res[\"data\"][\"Data\"][\"EDUCACIONBASICAS\"][0][\"TXTIENESECUNDARIA\"],\n",
    "                json_res[\"data\"][\"Data\"][\"EDUCACIONBASICAS\"][0][\"TXCONCLUYOSECUNDARIA\"],\n",
    "\n",
    "                par_tiene_edu_tec\n",
    "            ])"
   ]
  },
  {
   "cell_type": "code",
   "execution_count": null,
   "metadata": {},
   "outputs": [],
   "source": []
  }
 ],
 "metadata": {
  "kernelspec": {
   "display_name": "Python 3",
   "language": "python",
   "name": "python3"
  },
  "language_info": {
   "codemirror_mode": {
    "name": "ipython",
    "version": 3
   },
   "file_extension": ".py",
   "mimetype": "text/x-python",
   "name": "python",
   "nbconvert_exporter": "python",
   "pygments_lexer": "ipython3",
   "version": "3.7.0"
  }
 },
 "nbformat": 4,
 "nbformat_minor": 2
}
