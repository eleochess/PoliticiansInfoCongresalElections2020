{
 "cells": [
  {
   "cell_type": "code",
   "execution_count": 1,
   "metadata": {},
   "outputs": [],
   "source": [
    "import requests\n",
    "import csv\n",
    "\n",
    "par_ubigeo = \"JiNUq%252ByQmnQ%253D\"\n",
    "par_partido = \"U3DdD93Li0Q%3D\"\n",
    "url = \"https://votoinformado.jne.gob.pe/voto/Home/CargarCandidatos?TXUBIGEO=\" + par_ubigeo + \"&TXOP=\" + par_partido\n",
    "response = requests.get(url)\n",
    "json_res = response.json()"
   ]
  },
  {
   "cell_type": "code",
   "execution_count": 55,
   "metadata": {},
   "outputs": [
    {
     "name": "stdout",
     "output_type": "stream",
     "text": [
      "ACCION POPULAR\n"
     ]
    }
   ],
   "source": [
    "print(json_res[\"TxOP\"])"
   ]
  },
  {
   "cell_type": "code",
   "execution_count": 56,
   "metadata": {},
   "outputs": [],
   "source": [
    "with open('candidates.csv', 'w', encoding='utf-8', newline='') as csvfile:\n",
    "    csvfile.truncate()\n",
    "    filewriter = csv.writer(csvfile, delimiter = ',', quotechar = '|', quoting = csv.QUOTE_MINIMAL)\n",
    "    filewriter.writerow(['ID', 'NOMBRES', 'APE_PAT', 'APE_MAT', 'DNI', 'FOTO'])\n",
    "    for can in json_res[\"data\"][\"Data\"]:\n",
    "        filewriter.writerow([\n",
    "            can[\"IDENCRIPTADO\"],\n",
    "            can[\"TXNOMBRES\"],\n",
    "            can[\"TXAPELLIDOPATERNO\"],\n",
    "            can[\"TXAPELLIDOMATERNO\"],\n",
    "            can[\"TXDOCUMENTOIDENTIDAD\"],\n",
    "            can[\"TXRUTAARCHIVO\"]\n",
    "        ])"
   ]
  },
  {
   "cell_type": "code",
   "execution_count": 2,
   "metadata": {},
   "outputs": [],
   "source": [
    "import urllib.parse\n",
    "\n",
    "url2 = \"https://votoinformado.jne.gob.pe/voto/Home/CargarOP?ubigeo=JiNUq%2byQmnQ%3d\"\n",
    "response2 = requests.get(url2)\n",
    "json_res2 = response2.json()"
   ]
  },
  {
   "cell_type": "code",
   "execution_count": 3,
   "metadata": {},
   "outputs": [
    {
     "name": "stdout",
     "output_type": "stream",
     "text": [
      "ID,PARTIDO,CODE\n",
      "4,ACCION POPULAR,U3DdD93Li0Q%3D\n",
      "1257,ALIANZA PARA EL PROGRESO,TvhA1Fqe%2Bj0%3D\n",
      "2173,AVANZA PAIS - PARTIDO DE INTEGRACION SOCIAL,d0s64MMWfhA%3D\n",
      "2191,DEMOCRACIA DIRECTA,KyEXEkG4zl0%3D\n",
      "2160,EL FRENTE AMPLIO POR JUSTICIA, VIDA Y LIBERTAD,hba%2Fly5ruTU%3D\n",
      "2646,FRENTE POPULAR AGRICOLA FIA DEL PERU - FREPAP,pqSlyhiWe90%3D\n",
      "1366,FUERZA POPULAR,QLRyYz%2BgV0g%3D\n",
      "1264,JUNTOS POR EL PERU,oGxJTCuoUQk%3D\n",
      "32,PARTIDO APRISTA PERUANO,AXc%2FfSWg898%3D\n",
      "14,PARTIDO DEMOCRATICO SOMOS PERU,%2BGrDDfFkv0I%3D\n",
      "2840,PARTIDO MORADO,Sps4IT%2FrgCU%3D\n",
      "2235,PARTIDO POLÍTICO CONTIGO,WUS%2BXnEtZPg%3D\n",
      "2218,PARTIDO POLITICO NACIONAL PERU LIBRE,gDZoqKljips%3D\n",
      "15,PARTIDO POPULAR CRISTIANO - PPC,L4BTYbZgGIU%3D\n",
      "2649,PERU NACION,6u0o6dnMUw8%3D\n",
      "55,PERU PATRIA SEGURA,CzJHRVcHer4%3D\n",
      "2731,PODEMOS PERU,sSSsZK9xNwY%3D\n",
      "5,RENACIMIENTO UNIDO NACIONAL,4ifGMqWhPYg%3D\n",
      "22,SOLIDARIDAD NACIONAL,XnZblJZsXM8%3D\n",
      "47,UNION POR EL PERU,f2S%2FfiM3VEM%3D\n",
      "2190,VAMOS PERU,H9%2B54TcBdIo%3D\n",
      "\n"
     ]
    }
   ],
   "source": [
    "txt = \"ID,PARTIDO,CODE\\n\"\n",
    "for can in json_res2[\"data\"][\"Data\"]:\n",
    "    txt += str(can[\"IDORGANIZACIONPOLITICA\"]) + \",\"\n",
    "    txt += can[\"TXORGANIZACIONPOLITICA\"] + \",\"\n",
    "    txt += urllib.parse.quote_plus(can[\"TXOPENC\"]) + \"\\n\"\n",
    "print(txt)"
   ]
  },
  {
   "cell_type": "code",
   "execution_count": null,
   "metadata": {},
   "outputs": [],
   "source": []
  }
 ],
 "metadata": {
  "kernelspec": {
   "display_name": "Python 3",
   "language": "python",
   "name": "python3"
  },
  "language_info": {
   "codemirror_mode": {
    "name": "ipython",
    "version": 3
   },
   "file_extension": ".py",
   "mimetype": "text/x-python",
   "name": "python",
   "nbconvert_exporter": "python",
   "pygments_lexer": "ipython3",
   "version": "3.7.0"
  }
 },
 "nbformat": 4,
 "nbformat_minor": 2
}
